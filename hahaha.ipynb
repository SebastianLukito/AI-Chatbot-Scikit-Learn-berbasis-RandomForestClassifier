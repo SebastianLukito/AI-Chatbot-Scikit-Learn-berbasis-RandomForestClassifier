{
 "cells": [
  {
   "cell_type": "code",
   "execution_count": 6,
   "metadata": {},
   "outputs": [
    {
     "name": "stdout",
     "output_type": "stream",
     "text": [
      "kucing\n",
      "['jambu', 'kucing', 'jeruk', 'apel', 'mangga']\n"
     ]
    }
   ],
   "source": [
    "def stack():\n",
    "  stack = []\n",
    "  return stack\n",
    "\n",
    "def cek_kosong(stack):\n",
    "  return len(stack) == 0\n",
    "\n",
    "def push(stack, item):\n",
    "  stack.append(item)\n",
    "\n",
    "def peek(stack):\n",
    "  x = len(stack)\n",
    "  print(stack[x-1])\n",
    "\n",
    "def batch_push(stack, items):\n",
    "    for item in items:\n",
    "        stack.append(item)\n",
    "  \n",
    "\n",
    "buah = [\"jambu\"]\n",
    "\n",
    "push(buah, \"kucing\")\n",
    "peek(buah)\n",
    "batch_push(buah, [\"jeruk\", \"apel\", \"mangga\"])\n",
    "\n",
    "print(buah)\n",
    "\n",
    "\n",
    "\n"
   ]
  },
  {
   "cell_type": "code",
   "execution_count": 11,
   "metadata": {},
   "outputs": [
    {
     "name": "stdout",
     "output_type": "stream",
     "text": [
      "['jambu', 'kucing']\n"
     ]
    }
   ],
   "source": [
    "def queue():\n",
    "  queue = []\n",
    "  return queue\n",
    "\n",
    "def cek_kosong(queue):\n",
    "  return len(queue) == 0\n",
    "\n",
    "def enqueue(queue, item):\n",
    "  queue.append(item)\n",
    "\n",
    "def peek(queue):\n",
    "  x = len(queue)\n",
    "  print(queue[x-1])\n",
    "\n",
    "def batch_enqueue(queue, items):\n",
    "    for item in items:\n",
    "        queue.append(item)\n",
    "\n",
    "def dequeue(queue):\n",
    "  return queue.pop(0)\n",
    "\n",
    "def batch_dequeue(queue, count):\n",
    "    for i in range(count):\n",
    "        queue.pop(0)\n",
    "  \n",
    "buah = [\"jambu\"]\n",
    "\n",
    "enqueue(buah, \"kucing\")\n",
    "print(buah)\n",
    "\n",
    "\n"
   ]
  },
  {
   "cell_type": "code",
   "execution_count": 12,
   "metadata": {},
   "outputs": [
    {
     "name": "stdout",
     "output_type": "stream",
     "text": [
      "Akurasi: 1.0\n"
     ]
    }
   ],
   "source": [
    "# Import packages yang diperlukan\n",
    "from sklearn import datasets\n",
    "from sklearn import svm\n",
    "from sklearn.model_selection import train_test_split\n",
    "from sklearn import metrics\n",
    "\n",
    "# Load dataset iris\n",
    "iris = datasets.load_iris()\n",
    "\n",
    "# Pisahkan atribut dan label dari dataset\n",
    "X = iris.data\n",
    "y = iris.target\n",
    "\n",
    "# Bagi data menjadi data training dan data testing\n",
    "X_train, X_test, y_train, y_test = train_test_split(X, y, test_size=0.2, random_state=42)\n",
    "\n",
    "# Buat objek SVM dan training menggunakan data training\n",
    "clf = svm.SVC(kernel='linear') # Linear Kernel\n",
    "clf.fit(X_train, y_train)\n",
    "\n",
    "# Lakukan prediksi terhadap data testing\n",
    "y_pred = clf.predict(X_test)\n",
    "\n",
    "# Hitung akurasi model SVM yang telah dibuat\n",
    "print(\"Akurasi:\", metrics.accuracy_score(y_test, y_pred))"
   ]
  }
 ],
 "metadata": {
  "kernelspec": {
   "display_name": "Python 3",
   "language": "python",
   "name": "python3"
  },
  "language_info": {
   "codemirror_mode": {
    "name": "ipython",
    "version": 3
   },
   "file_extension": ".py",
   "mimetype": "text/x-python",
   "name": "python",
   "nbconvert_exporter": "python",
   "pygments_lexer": "ipython3",
   "version": "3.11.3"
  },
  "orig_nbformat": 4
 },
 "nbformat": 4,
 "nbformat_minor": 2
}
